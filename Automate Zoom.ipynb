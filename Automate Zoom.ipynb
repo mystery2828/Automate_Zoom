{
 "cells": [
  {
   "cell_type": "markdown",
   "metadata": {},
   "source": [
    "<h2>Lets install the libraries we need</h2>"
   ]
  },
  {
   "cell_type": "code",
   "execution_count": 8,
   "metadata": {},
   "outputs": [
    {
     "name": "stdout",
     "output_type": "stream",
     "text": [
      "Requirement already satisfied: selenium in c:\\programdata\\anaconda3\\lib\\site-packages (3.141.0)\n",
      "Requirement already satisfied: urllib3 in c:\\programdata\\anaconda3\\lib\\site-packages (from selenium) (1.25.8)\n"
     ]
    }
   ],
   "source": [
    "import sys\n",
    "!{sys.executable} -m pip install selenium\n",
    "!{sys.executable} -m pip install requests\n",
    "!{sys.executable} -m pip install webbrowser"
   ]
  },
  {
   "cell_type": "markdown",
   "metadata": {},
   "source": [
    "<h2>Lets automate Zoom</h2>"
   ]
  },
  {
   "cell_type": "code",
   "execution_count": 5,
   "metadata": {},
   "outputs": [],
   "source": [
    "'''\n",
    "@Jupyter labs\n",
    "\n",
    "auhor: Akash Sharma\n",
    "'''\n",
    "import requests,webbrowser\n",
    "from selenium import webdriver\n",
    "from selenium.webdriver.common.keys import Keys\n",
    "from selenium.webdriver.chrome.options import Options \n",
    "from selenium.webdriver.support import expected_conditions as EC\n",
    "from selenium.webdriver.support.ui import WebDriverWait\n",
    "from selenium.webdriver.common.by import By\n",
    "\n",
    "password = input('Please enter the password')\n",
    "usn_format = input('Please enter the format of your class USN eg. <1JS17EC>')\n",
    "no_of_students = input('Please enter the number of students you want to automate')\n",
    "\n",
    "#  Paste your meeting URL here\n",
    "URL= 'https://us04web.zoom.us/j/6756337566?pwd=YkNjeDN2R1p4SUk3WThQdy9WYlZOQT09'\n",
    "\n",
    "USN = []\n",
    "\n",
    "\n",
    "#  Create a list of USN of your class\n",
    "USN = ['1JS17EC002', '1JS17EC003', '1JS17EC004', '1JS17EC005', '1JS17EC006', '1JS17EC007', '1JS17EC008', '1JS17EC009', '1JS17EC010', '1JS17EC011', '1JS17EC012', '1JS17EC013', '1JS17EC014', '1JS17EC015', '1JS17EC016', '1JS17EC017', '1JS17EC018', '1JS17EC019', '1JS17EC020', '1JS17EC021', '1JS17EC022', '1JS17EC023', '1JS17EC024', '1JS17EC025', '1JS17EC026', '1JS17EC027', '1JS17EC028', '1JS17EC029', '1JS17EC030', '1JS17EC031', '1JS17EC032', '1JS17EC033', '1JS17EC034', '1JS17EC035', '1JS17EC036', '1JS17EC037', '1JS17EC038', '1JS17EC039', '1JS17EC040', '1JS17EC041', '1JS17EC042', '1JS17EC043', '1JS17EC044', '1JS17EC045', '1JS17EC046', '1JS17EC047', '1JS17EC048', '1JS17EC049', '1JS17EC050', '1JS17EC051', '1JS17EC052', '1JS17EC053', '1JS17EC054', '1JS17EC055']\n",
    "\n",
    "while USN:\n",
    "\n",
    "    options = Options()\n",
    "    options.add_argument(\"--headless\")\n",
    "    \n",
    "    #  Replace this path by your path(Add the path of chromedriver.exe to environment variables first)\n",
    "    driver = webdriver.Chrome('C:\\\\Users\\\\user\\\\Desktop\\\\chromedriver.exe', options=options)\n",
    "\n",
    "    driver.get(URL)\n",
    "    wait = WebDriverWait(driver, 10)\n",
    "    link = wait.until(EC.element_to_be_clickable((By.XPATH, '//*[@id=\"action_container\"]/div[3]/a')))\n",
    "    link.click()\n",
    "\n",
    "    driver.implicitly_wait(2)\n",
    "\n",
    "    password = driver.find_element_by_xpath('//*[@id=\"inputpasscode\"]')\n",
    "    \n",
    "    password.send_keys(password)\n",
    "\n",
    "    name = driver.find_element_by_xpath('//*[@id=\"inputname\"]')\n",
    "    name.send_keys(USN.pop())\n",
    "\n",
    "    join = driver.find_element_by_xpath('//*[@id=\"joinBtn\"]')\n",
    "    join.click()\n"
   ]
  }
 ],
 "metadata": {
  "kernelspec": {
   "display_name": "Python 3",
   "language": "python",
   "name": "python3"
  },
  "language_info": {
   "codemirror_mode": {
    "name": "ipython",
    "version": 3
   },
   "file_extension": ".py",
   "mimetype": "text/x-python",
   "name": "python",
   "nbconvert_exporter": "python",
   "pygments_lexer": "ipython3",
   "version": "3.7.6"
  },
  "widgets": {
   "application/vnd.jupyter.widget-state+json": {
    "state": {},
    "version_major": 2,
    "version_minor": 0
   }
  }
 },
 "nbformat": 4,
 "nbformat_minor": 4
}
